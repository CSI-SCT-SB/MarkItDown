{
  "nbformat": 4,
  "nbformat_minor": 0,
  "metadata": {
    "colab": {
      "provenance": [],
      "authorship_tag": "ABX9TyMa1pBBmVrqZXHMCov9ls2r",
      "include_colab_link": true
    },
    "kernelspec": {
      "name": "python3",
      "display_name": "Python 3"
    },
    "language_info": {
      "name": "python"
    }
  },
  "cells": [
    {
      "cell_type": "markdown",
      "metadata": {
        "id": "view-in-github",
        "colab_type": "text"
      },
      "source": [
        "<a href=\"https://colab.research.google.com/github/CSI-SCT-SB/MarkItDown/blob/main/basics/Untitled0.ipynb\" target=\"_parent\"><img src=\"https://colab.research.google.com/assets/colab-badge.svg\" alt=\"Open In Colab\"/></a>"
      ]
    },
    {
      "cell_type": "code",
      "execution_count": 2,
      "metadata": {
        "colab": {
          "base_uri": "https://localhost:8080/"
        },
        "id": "sEARCraHgbY7",
        "outputId": "af8b4f4d-63a5-491d-88f8-d2c38242bc1c"
      },
      "outputs": [
        {
          "output_type": "stream",
          "name": "stdout",
          "text": [
            "enter a5\n",
            "enter b4\n",
            "enter c3\n",
            "a is bigger\n"
          ]
        }
      ],
      "source": [
        "a= input(\"enter a\")\n",
        "b= input(\"enter b\")\n",
        "c= input(\"enter c\")\n",
        "if a>b and a>c :\n",
        "   print(\"a is bigger\")\n",
        "elif b>a and b>c:\n",
        "   print(\"b is bigger\")\n",
        "else:   print(\"c is bigger\")"
      ]
    }
  ]
}